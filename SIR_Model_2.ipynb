{
  "nbformat": 4,
  "nbformat_minor": 0,
  "metadata": {
    "colab": {
      "name": "SIR_Model_2.ipynb",
      "provenance": []
    },
    "kernelspec": {
      "display_name": "Python 3",
      "name": "python3"
    },
    "language_info": {
      "name": "python"
    }
  },
  "cells": [
    {
      "cell_type": "code",
      "metadata": {
        "id": "XJbYjjHy1xeg"
      },
      "source": [
        "import tensorflow as tf\n",
        "import numpy as np\n",
        "import scipy.io\n",
        "from tensorflow.keras import layers\n",
        "from tensorflow import keras\n",
        "from tensorflow.keras.layers import Flatten, Dense\n",
        "from tensorflow.keras.layers import Input, Dense, Activation, Concatenate\n",
        "from tensorflow.keras.models import Model\n",
        "import matplotlib.pyplot as plt\n",
        "import scipy.integrate"
      ],
      "execution_count": null,
      "outputs": []
    },
    {
      "cell_type": "markdown",
      "metadata": {
        "id": "tyurSztw1_vb"
      },
      "source": [
        "Data Generation"
      ]
    },
    {
      "cell_type": "code",
      "metadata": {
        "id": "DjMOJ_cl12J6"
      },
      "source": [
        "# def SIRModel2(y,t,beta,gamma):\n",
        "#   S,I = y\n",
        "#   dSdt = -(beta*S*I)\n",
        "#   dIdt = (beta*S*I) - gamma*I\n",
        "\n",
        "#   return dSdt,dIdt"
      ],
      "execution_count": null,
      "outputs": []
    },
    {
      "cell_type": "code",
      "metadata": {
        "id": "9pGKhnVN2B-u"
      },
      "source": [
        "# #Initial Conditions\n",
        "# # Initial Condition\n",
        "# S0 = 79999950/80000000\n",
        "# I0 = 50/80000000\n",
        "\n",
        "# beta = 0.5\n",
        "# gamma = 0.25\n",
        "# print(S0)\n",
        "# print(I0)"
      ],
      "execution_count": null,
      "outputs": []
    },
    {
      "cell_type": "code",
      "metadata": {
        "id": "uDMOlXc12Jv6"
      },
      "source": [
        "# # Time vector\n",
        "# tc = np.linspace(0,81,10000)\n",
        "# t1 = np.linspace(0,41,5000)\n",
        "# t2 = np.linspace(40,81,5000)"
      ],
      "execution_count": null,
      "outputs": []
    },
    {
      "cell_type": "code",
      "metadata": {
        "id": "lybfm3kP2pJV"
      },
      "source": [
        "# #Solution\n",
        "# solution_c = scipy.integrate.odeint(SIRModel2,[S0,I0],tc,args=(beta,gamma))\n",
        "# solution_1 = scipy.integrate.odeint(SIRModel2,[S0,I0],t1,args=(beta,gamma))"
      ],
      "execution_count": null,
      "outputs": []
    },
    {
      "cell_type": "code",
      "metadata": {
        "id": "yv8B-cfS3W41"
      },
      "source": [
        "# solution_c = np.array(solution_c)\n",
        "# S_t_c = solution_c[:,0]\n",
        "# I_t_c = solution_c[:,1]\n",
        "# R_t_c = 1-S_t_c-I_t_c"
      ],
      "execution_count": null,
      "outputs": []
    },
    {
      "cell_type": "code",
      "metadata": {
        "id": "PONQHigV4FQ_"
      },
      "source": [
        "# print(S_t_c[-1])\n",
        "# print(I_t_c[-1])"
      ],
      "execution_count": null,
      "outputs": []
    },
    {
      "cell_type": "code",
      "metadata": {
        "id": "ZnkucqZh3s3U"
      },
      "source": [
        "# solution_1 = np.array(solution_1)\n",
        "# S_t1 = solution_1[:,0]\n",
        "# I_t1 = solution_1[:,1]\n",
        "# R_t1 = 1-S_t1-I_t1"
      ],
      "execution_count": null,
      "outputs": []
    },
    {
      "cell_type": "code",
      "metadata": {
        "id": "ztfyVfc63ytN"
      },
      "source": [
        "# print(S_t1[-1])\n",
        "# print(I_t1[-1])"
      ],
      "execution_count": null,
      "outputs": []
    },
    {
      "cell_type": "code",
      "metadata": {
        "id": "w_pzSjqC4A3X"
      },
      "source": [
        "# S0_2 = S_t1[-1]\n",
        "# I0_2 = I_t1[-1]\n"
      ],
      "execution_count": null,
      "outputs": []
    },
    {
      "cell_type": "code",
      "metadata": {
        "id": "O98Y01ga4cRe"
      },
      "source": [
        "# solution_2 = scipy.integrate.odeint(SIRModel2,[S0_2,I0_2],t2,args=(beta,gamma))"
      ],
      "execution_count": null,
      "outputs": []
    },
    {
      "cell_type": "code",
      "metadata": {
        "id": "5grulKxR4k2a"
      },
      "source": [
        "# solution_2 = np.array(solution_2)\n",
        "# S_t2 = solution_2[:,0]\n",
        "# I_t2 = solution_2[:,1]\n",
        "# R_t2 = 1-S_t2-I_t2"
      ],
      "execution_count": null,
      "outputs": []
    },
    {
      "cell_type": "code",
      "metadata": {
        "id": "Z-ZpZ_NA4vGA"
      },
      "source": [
        "# print(S_t2[-1])\n",
        "# print(I_t2[-1])"
      ],
      "execution_count": null,
      "outputs": []
    },
    {
      "cell_type": "code",
      "metadata": {
        "id": "tfxwhKab4znr"
      },
      "source": [
        "# # Plotting\n",
        "# plt.plot(tc,S_t_c, label = \"S(t)\")\n",
        "# plt.plot(tc,I_t_c, label = \"I(t)\")\n",
        "# plt.plot(tc,R_t_c, label = \"R(t)\")\n",
        "# plt.grid()\n",
        "# plt.legend()\n",
        "# plt.xlabel(\"time\")\n",
        "# plt.ylabel(\"population\")\n",
        "# plt.show()"
      ],
      "execution_count": null,
      "outputs": []
    },
    {
      "cell_type": "code",
      "metadata": {
        "id": "iYANHiGY5P9O"
      },
      "source": [
        "# S_t_c.shape"
      ],
      "execution_count": null,
      "outputs": []
    },
    {
      "cell_type": "code",
      "metadata": {
        "id": "jB11muT45mo4"
      },
      "source": [
        "# S_t1.shape"
      ],
      "execution_count": null,
      "outputs": []
    },
    {
      "cell_type": "code",
      "metadata": {
        "id": "-cO4c5fv5q2U"
      },
      "source": [
        "# S_t2.shape"
      ],
      "execution_count": null,
      "outputs": []
    },
    {
      "cell_type": "code",
      "metadata": {
        "id": "0bNFXccG5tJi"
      },
      "source": [
        "# S_t12 = np.hstack((S_t1,S_t2))\n",
        "# I_t12 = np.hstack((I_t1,I_t2))\n",
        "# R_t12 = np.hstack((R_t1,R_t2))"
      ],
      "execution_count": null,
      "outputs": []
    },
    {
      "cell_type": "code",
      "metadata": {
        "id": "IUxudm2R510D"
      },
      "source": [
        "# # Plotting\n",
        "# plt.plot(tc,S_t12, label = \"S(t)\")\n",
        "# plt.plot(tc,I_t12, label = \"I(t)\")\n",
        "# plt.plot(tc,R_t12, label = \"R(t)\")\n",
        "# plt.grid()\n",
        "# plt.legend()\n",
        "# plt.xlabel(\"time\")\n",
        "# plt.ylabel(\"population\")\n",
        "# plt.show()"
      ],
      "execution_count": null,
      "outputs": []
    },
    {
      "cell_type": "markdown",
      "metadata": {
        "id": "N0wauePtgRYV"
      },
      "source": [
        "Data Generation\n"
      ]
    },
    {
      "cell_type": "code",
      "metadata": {
        "id": "3M2th1wt6i40"
      },
      "source": [
        "def SIRModel2(y,t,beta,gamma):\n",
        "  S,I = y\n",
        "  dSdt = -(beta*S*I)\n",
        "  dIdt = (beta*S*I) - gamma*I\n",
        "\n",
        "  return dSdt,dIdt"
      ],
      "execution_count": null,
      "outputs": []
    },
    {
      "cell_type": "code",
      "metadata": {
        "colab": {
          "base_uri": "https://localhost:8080/"
        },
        "id": "ywHpI9MMgaai",
        "outputId": "df1e4082-b34a-47af-8d34-a2a92e75e9c4"
      },
      "source": [
        "#Initial Conditions\n",
        "# Initial Condition\n",
        "S0 = 79999950/80000000\n",
        "I0 = 50/80000000\n",
        "\n",
        "beta = 0.6\n",
        "gamma = 0.25\n",
        "print(S0)\n",
        "print(I0)"
      ],
      "execution_count": null,
      "outputs": [
        {
          "name": "stdout",
          "output_type": "stream",
          "text": [
            "0.999999375\n",
            "6.25e-07\n"
          ]
        }
      ]
    },
    {
      "cell_type": "code",
      "metadata": {
        "id": "dgo6G8N4gnof"
      },
      "source": [
        "# Time vector\n",
        "tc = np.linspace(0,41,20000)\n",
        "t1 = tc[0:5000]\n",
        "t2 = tc[5000:10000]\n",
        "t3 = tc[10000:15000]\n",
        "t4 = tc[15000:20000] \n"
      ],
      "execution_count": null,
      "outputs": []
    },
    {
      "cell_type": "code",
      "metadata": {
        "id": "1PKVYkq6iXKo"
      },
      "source": [
        "# Result\n",
        "solution = scipy.integrate.odeint(SIRModel2,[S0,I0],tc,args=(beta,gamma))"
      ],
      "execution_count": null,
      "outputs": []
    },
    {
      "cell_type": "code",
      "metadata": {
        "colab": {
          "base_uri": "https://localhost:8080/"
        },
        "id": "xyuONw9tideF",
        "outputId": "e605a7b4-da4a-4185-95c4-9dd5ad23b869"
      },
      "source": [
        "solution = np.array(solution)\n",
        "S_t = solution[:,0]\n",
        "I_t = solution[:,1]\n",
        "R_t = 1-S_t-I_t\n",
        "\n",
        "tc = np.array(tc).reshape((20000,1))\n",
        "t1 = np.array(t1).reshape((5000,1))\n",
        "t2 = np.array(t2).reshape((5000,1))\n",
        "t3 = np.array(t3).reshape((5000,1))\n",
        "t4 = np.array(t4).reshape((5000,1))\n",
        "t4.shape"
      ],
      "execution_count": null,
      "outputs": [
        {
          "data": {
            "text/plain": [
              "(5000, 1)"
            ]
          },
          "execution_count": 24,
          "metadata": {},
          "output_type": "execute_result"
        }
      ]
    },
    {
      "cell_type": "code",
      "metadata": {
        "id": "MEqqz13RjB2y"
      },
      "source": [
        "S_t1 = S_t[0:5000]\n",
        "I_t1 = I_t[0:5000]\n",
        "\n",
        "S_t2 = S_t[5000:10000]\n",
        "I_t2 = I_t[5000:10000]\n",
        "\n",
        "S_t3 = S_t[10000:15000]\n",
        "I_t3 = I_t[10000:15000]\n",
        "\n",
        "S_t4 = S_t[15000:20000]\n",
        "I_t4 = I_t[15000:20000]"
      ],
      "execution_count": null,
      "outputs": []
    },
    {
      "cell_type": "code",
      "metadata": {
        "colab": {
          "base_uri": "https://localhost:8080/",
          "height": 279
        },
        "id": "jonChzA-j1mV",
        "outputId": "c96ed30f-967b-4a7e-e1b3-78f8042887b1"
      },
      "source": [
        "# Plotting\n",
        "plt.plot(tc,S_t, label = \"S(t)\")\n",
        "plt.plot(tc,I_t, label = \"I(t)\")\n",
        "plt.plot(tc,R_t, label = \"R(t)\")\n",
        "plt.grid()\n",
        "plt.legend()\n",
        "plt.xlabel(\"time\")\n",
        "plt.ylabel(\"population\")\n",
        "plt.show()"
      ],
      "execution_count": null,
      "outputs": [
        {
          "data": {
            "image/png": "[encoded data removed]",
            "text/plain": [
              "<Figure size 432x288 with 1 Axes>"
            ]
          },
          "metadata": {},
          "output_type": "display_data"
        }
      ]
    },
    {
      "cell_type": "code",
      "metadata": {
        "colab": {
          "base_uri": "https://localhost:8080/"
        },
        "id": "apH5EjVIj-nd",
        "outputId": "7ac3ed2d-3cad-4f58-82f0-6d72f8d326b6"
      },
      "source": [
        "S_test = np.hstack((S_t1,S_t2,S_t3,S_t4))\n",
        "I_test = np.hstack((I_t1,I_t2,I_t3,I_t4))\n",
        "I_test.shape"
      ],
      "execution_count": null,
      "outputs": [
        {
          "data": {
            "text/plain": [
              "(20000,)"
            ]
          },
          "execution_count": 27,
          "metadata": {},
          "output_type": "execute_result"
        }
      ]
    },
    {
      "cell_type": "code",
      "metadata": {
        "colab": {
          "base_uri": "https://localhost:8080/",
          "height": 279
        },
        "id": "F-QxgVEukhUp",
        "outputId": "78436f1f-2e9c-43bb-cbf7-aa489a54407e"
      },
      "source": [
        "# Plotting\n",
        "plt.plot(tc,S_test, label = \"S(t)\")\n",
        "plt.plot(tc,I_test, label = \"I(t)\")\n",
        "plt.grid()\n",
        "plt.legend()\n",
        "plt.xlabel(\"time\")\n",
        "plt.ylabel(\"population\")\n",
        "plt.show()"
      ],
      "execution_count": null,
      "outputs": [
        {
          "data": {
            "image/png": "[encoded data removed]",
            "text/plain": [
              "<Figure size 432x288 with 1 Axes>"
            ]
          },
          "metadata": {},
          "output_type": "display_data"
        }
      ]
    },
    {
      "cell_type": "code",
      "metadata": {
        "id": "voQLPG-jknc4"
      },
      "source": [
        "# Convert To Tensor\n",
        "tc = tf.convert_to_tensor(tc.astype('float32'))\n",
        "t1 = tf.convert_to_tensor(t1.astype('float32'))\n",
        "t2 = tf.convert_to_tensor(t2.astype('float32'))\n",
        "t3 = tf.convert_to_tensor(t3.astype('float32'))\n",
        "t4 = tf.convert_to_tensor(t4.astype('float32'))"
      ],
      "execution_count": null,
      "outputs": []
    },
    {
      "cell_type": "code",
      "metadata": {
        "id": "AxcUYK1_lOSh"
      },
      "source": [
        "# Convert To Tensor\n",
        "S_t = tf.convert_to_tensor(S_t.astype('float32'))\n",
        "S_t1 = tf.convert_to_tensor(S_t1.astype('float32'))\n",
        "S_t2 = tf.convert_to_tensor(S_t2.astype('float32'))\n",
        "S_t3 = tf.convert_to_tensor(S_t3.astype('float32'))\n",
        "S_t4 = tf.convert_to_tensor(S_t4.astype('float32'))"
      ],
      "execution_count": null,
      "outputs": []
    },
    {
      "cell_type": "code",
      "metadata": {
        "id": "P4Zy8VhPlzy9"
      },
      "source": [
        "# Convert To Tensor\n",
        "I_t = tf.convert_to_tensor(I_t.astype('float32'))\n",
        "I_t1 = tf.convert_to_tensor(I_t1.astype('float32'))\n",
        "I_t2 = tf.convert_to_tensor(I_t2.astype('float32'))\n",
        "I_t3 = tf.convert_to_tensor(I_t3.astype('float32'))\n",
        "I_t4 = tf.convert_to_tensor(I_t4.astype('float32'))"
      ],
      "execution_count": null,
      "outputs": []
    },
    {
      "cell_type": "code",
      "metadata": {
        "colab": {
          "base_uri": "https://localhost:8080/"
        },
        "id": "TprQ0U2ymCTK",
        "outputId": "c38290fc-540c-4138-9787-300f059866c3"
      },
      "source": [
        "o=np.ones((5000,1)).astype('float32')\n",
        "o=tf.convert_to_tensor(o)\n",
        "o"
      ],
      "execution_count": null,
      "outputs": [
        {
          "data": {
            "text/plain": [
              "<tf.Tensor: shape=(5000, 1), dtype=float32, numpy=\n",
              "array([[1.],\n",
              "       [1.],\n",
              "       [1.],\n",
              "       ...,\n",
              "       [1.],\n",
              "       [1.],\n",
              "       [1.]], dtype=float32)>"
            ]
          },
          "execution_count": 32,
          "metadata": {},
          "output_type": "execute_result"
        }
      ]
    },
    {
      "cell_type": "code",
      "metadata": {
        "id": "YMr51HPBmHZM"
      },
      "source": [
        "class Custom_model1(Model):\n",
        "    \n",
        "    def __init__(self, **kwargs):\n",
        "        super(Custom_model1, self).__init__(**kwargs)\n",
        "        self.layer1 = Dense(100, activation='selu',name='layer1')\n",
        "        self.layer2 = Dense(100, activation='selu',name='layer2')\n",
        "        self.layer3 = Dense(100, activation='selu',name='layer3')\n",
        "        self.layer4 = Dense(100, activation='selu',name='layer4')\n",
        "        self.layer5 = Dense(100, activation='selu',name='layer5')\n",
        "        self.layer6 = Dense(100, activation='selu',name='layer6')\n",
        "        self.layer7 = Dense(100, activation='selu',name='layer7')\n",
        "        self.layer8 = Dense(100, activation='selu',name='layer8')\n",
        "        self.layer9 = Dense(100, activation='selu',name='layer9')\n",
        "        self.layer10 = Dense(2, activation=None,name='layer10')\n",
        "        self.layer11 = Dense(1, activation=None,use_bias=False)\n",
        "\n",
        "    def call(self, t, o):\n",
        "        z = self.layer1(t)\n",
        "        z = self.layer2(z)\n",
        "        z = self.layer3(z)\n",
        "        z = self.layer4(z)\n",
        "        z = self.layer5(z)\n",
        "        z = self.layer6(z)\n",
        "        z = self.layer7(z)\n",
        "        z = self.layer8(z)\n",
        "        z = self.layer9(z)\n",
        "        z = self.layer10(z)\n",
        "        z1 = self.layer11(o)\n",
        "        return z,z1"
      ],
      "execution_count": null,
      "outputs": []
    },
    {
      "cell_type": "code",
      "metadata": {
        "id": "P2BdspPOmLzF"
      },
      "source": [
        "model = Custom_model1()"
      ],
      "execution_count": null,
      "outputs": []
    },
    {
      "cell_type": "code",
      "metadata": {
        "colab": {
          "base_uri": "https://localhost:8080/"
        },
        "id": "6_ZHzs6LmOTH",
        "outputId": "4fa131d4-1df4-46a8-8b26-e4c61bd3850f"
      },
      "source": [
        "y,_ = model(tc,o)\n",
        "print(y)"
      ],
      "execution_count": null,
      "outputs": [
        {
          "name": "stdout",
          "output_type": "stream",
          "text": [
            "tf.Tensor(\n",
            "[[ 0.0000000e+00  0.0000000e+00]\n",
            " [-7.9205614e-03  1.5840973e-03]\n",
            " [-1.5675632e-02  3.1558857e-03]\n",
            " ...\n",
            " [ 4.7298044e-02  2.8667774e+00]\n",
            " [ 4.7309577e-02  2.8668551e+00]\n",
            " [ 4.7321960e-02  2.8669348e+00]], shape=(20000, 2), dtype=float32)\n"
          ]
        }
      ]
    },
    {
      "cell_type": "code",
      "metadata": {
        "colab": {
          "base_uri": "https://localhost:8080/"
        },
        "id": "xWH6nNMFmR8t",
        "outputId": "b5e058ae-235a-4b64-a289-8cf094fbdf10"
      },
      "source": [
        "model.layer11.trainable_weights"
      ],
      "execution_count": null,
      "outputs": [
        {
          "data": {
            "text/plain": [
              "[<tf.Variable 'custom_model1/dense/kernel:0' shape=(1, 1) dtype=float32, numpy=array([[-1.2277124]], dtype=float32)>]"
            ]
          },
          "execution_count": 36,
          "metadata": {},
          "output_type": "execute_result"
        }
      ]
    },
    {
      "cell_type": "code",
      "metadata": {
        "colab": {
          "base_uri": "https://localhost:8080/"
        },
        "id": "L2p6lYi3mVe_",
        "outputId": "ef2e57b3-3ff8-4a37-f236-df9eb4b4b901"
      },
      "source": [
        "model.summary()"
      ],
      "execution_count": null,
      "outputs": [
        {
          "name": "stdout",
          "output_type": "stream",
          "text": [
            "Model: \"custom_model1\"\n",
            "_________________________________________________________________\n",
            "Layer (type)                 Output Shape              Param #   \n",
            "=================================================================\n",
            "layer1 (Dense)               multiple                  200       \n",
            "_________________________________________________________________\n",
            "layer2 (Dense)               multiple                  10100     \n",
            "_________________________________________________________________\n",
            "layer3 (Dense)               multiple                  10100     \n",
            "_________________________________________________________________\n",
            "layer4 (Dense)               multiple                  10100     \n",
            "_________________________________________________________________\n",
            "layer5 (Dense)               multiple                  10100     \n",
            "_________________________________________________________________\n",
            "layer6 (Dense)               multiple                  10100     \n",
            "_________________________________________________________________\n",
            "layer7 (Dense)               multiple                  10100     \n",
            "_________________________________________________________________\n",
            "layer8 (Dense)               multiple                  10100     \n",
            "_________________________________________________________________\n",
            "layer9 (Dense)               multiple                  10100     \n",
            "_________________________________________________________________\n",
            "layer10 (Dense)              multiple                  202       \n",
            "_________________________________________________________________\n",
            "dense (Dense)                multiple                  1         \n",
            "=================================================================\n",
            "Total params: 81,203\n",
            "Trainable params: 81,203\n",
            "Non-trainable params: 0\n",
            "_________________________________________________________________\n"
          ]
        }
      ]
    },
    {
      "cell_type": "code",
      "metadata": {
        "id": "o5TcYt-fmXvz"
      },
      "source": [
        "def loss(model, S_t_train, I_t_train, t_train, o, training):\n",
        "    y,_ = model(t_train, o, training = training)\n",
        "    S_pred = y[:,0]\n",
        "    I_pred = y[:,1]\n",
        "    with tf.GradientTape(persistent = True) as t1:\n",
        "        t1.watch(t_train)\n",
        "        y,beta = model(t_train, o)\n",
        "        S = y[:,0]\n",
        "        I = y[:,1]\n",
        "    dS_dt = t1.gradient(S, t_train)\n",
        "    dI_dt = t1.gradient(I, t_train)\n",
        "    f_pred = dS_dt + (beta*S*I) \n",
        "    g_pred = dI_dt - (beta*S*I) + 0.25*I  \n",
        "    return tf.reduce_mean(tf.square(S_t_train - S_pred)) + tf.reduce_mean(tf.square(I_t_train - I_pred)) + tf.reduce_mean(tf.square(f_pred)) + tf.reduce_mean(tf.square(g_pred))"
      ],
      "execution_count": null,
      "outputs": []
    },
    {
      "cell_type": "code",
      "metadata": {
        "colab": {
          "base_uri": "https://localhost:8080/"
        },
        "id": "XenngnVTmcJh",
        "outputId": "9b5f6ec9-5776-4b95-c14d-c182085e7a8a"
      },
      "source": [
        "loss(model, S_t3, I_t3, t3, o, training=True)"
      ],
      "execution_count": null,
      "outputs": [
        {
          "data": {
            "text/plain": [
              "<tf.Tensor: shape=(), dtype=float32, numpy=7.314896>"
            ]
          },
          "execution_count": 39,
          "metadata": {},
          "output_type": "execute_result"
        }
      ]
    },
    {
      "cell_type": "code",
      "metadata": {
        "colab": {
          "base_uri": "https://localhost:8080/"
        },
        "id": "IJ8hiRDKmj-5",
        "outputId": "e468e2ee-9c3e-4d4f-c5be-b56dad6245c7"
      },
      "source": [
        "model.layer11.trainable_variables"
      ],
      "execution_count": null,
      "outputs": [
        {
          "data": {
            "text/plain": [
              "[<tf.Variable 'custom_model1/dense/kernel:0' shape=(1, 1) dtype=float32, numpy=array([[-1.2277124]], dtype=float32)>]"
            ]
          },
          "execution_count": 40,
          "metadata": {},
          "output_type": "execute_result"
        }
      ]
    },
    {
      "cell_type": "code",
      "metadata": {
        "colab": {
          "background_save": true,
          "base_uri": "https://localhost:8080/"
        },
        "id": "0GHfnjJLmmuC",
        "outputId": "65ee4888-3b73-4864-e5e4-be0280532ffd"
      },
      "source": [
        "def train(model, S_t_train, I_t_train, t_train, o):\n",
        "    with tf.GradientTape() as t:\n",
        "        current_loss = loss(model, S_t_train, I_t_train, t_train, o, training=True)\n",
        "    grads = t.gradient(current_loss, model.trainable_variables)\n",
        "    return current_loss, grads\n",
        "\n",
        "optimizer=tf.keras.optimizers.Adam(learning_rate=0.001)\n",
        "epoch=[]\n",
        "loss_plot=[]\n",
        "model = Custom_model1()\n",
        "ne=4000\n",
        "for i in range(ne):\n",
        "    loss_avg = tf.keras.metrics.Mean()\n",
        "    c_l,grad=train(model, S_t3, I_t3, t3, o)\n",
        "    optimizer.apply_gradients((grad, var) for (grad, var) in zip(grad, model.trainable_variables) if grad is not None)\n",
        "    loss_avg.update_state(c_l)\n",
        "  \n",
        "    if i%100==0:\n",
        "      epoch.append(i)\n",
        "      loss_plot.append(loss_avg.result())\n",
        "      print(loss_avg.result())"
      ],
      "execution_count": null,
      "outputs": [
        {
          "name": "stdout",
          "output_type": "stream",
          "text": [
            "tf.Tensor(2.8736553, shape=(), dtype=float32)\n",
            "tf.Tensor(0.030943481, shape=(), dtype=float32)\n",
            "tf.Tensor(0.021594899, shape=(), dtype=float32)\n",
            "tf.Tensor(0.015301203, shape=(), dtype=float32)\n",
            "tf.Tensor(0.013689881, shape=(), dtype=float32)\n",
            "tf.Tensor(0.013471699, shape=(), dtype=float32)\n",
            "tf.Tensor(0.013417418, shape=(), dtype=float32)\n",
            "tf.Tensor(0.013378225, shape=(), dtype=float32)\n",
            "tf.Tensor(0.0133417575, shape=(), dtype=float32)\n",
            "tf.Tensor(0.01331196, shape=(), dtype=float32)\n",
            "tf.Tensor(0.013286947, shape=(), dtype=float32)\n",
            "tf.Tensor(0.013266504, shape=(), dtype=float32)\n",
            "tf.Tensor(0.013249922, shape=(), dtype=float32)\n",
            "tf.Tensor(0.013236642, shape=(), dtype=float32)\n",
            "tf.Tensor(0.013225086, shape=(), dtype=float32)\n",
            "tf.Tensor(0.013214684, shape=(), dtype=float32)\n",
            "tf.Tensor(0.013205414, shape=(), dtype=float32)\n",
            "tf.Tensor(0.013196307, shape=(), dtype=float32)\n",
            "tf.Tensor(0.013180941, shape=(), dtype=float32)\n",
            "tf.Tensor(0.013165867, shape=(), dtype=float32)\n",
            "tf.Tensor(0.013151197, shape=(), dtype=float32)\n",
            "tf.Tensor(0.01313666, shape=(), dtype=float32)\n",
            "tf.Tensor(0.013122435, shape=(), dtype=float32)\n",
            "tf.Tensor(0.013107909, shape=(), dtype=float32)\n",
            "tf.Tensor(0.013093072, shape=(), dtype=float32)\n",
            "tf.Tensor(0.013077876, shape=(), dtype=float32)\n",
            "tf.Tensor(0.013062293, shape=(), dtype=float32)\n",
            "tf.Tensor(0.01304605, shape=(), dtype=float32)\n",
            "tf.Tensor(0.0130289225, shape=(), dtype=float32)\n",
            "tf.Tensor(0.01301056, shape=(), dtype=float32)\n",
            "tf.Tensor(0.012988658, shape=(), dtype=float32)\n",
            "tf.Tensor(0.012960777, shape=(), dtype=float32)\n",
            "tf.Tensor(0.012941858, shape=(), dtype=float32)\n",
            "tf.Tensor(0.012915114, shape=(), dtype=float32)\n",
            "tf.Tensor(0.012896832, shape=(), dtype=float32)\n",
            "tf.Tensor(0.03735112, shape=(), dtype=float32)\n",
            "tf.Tensor(0.012965326, shape=(), dtype=float32)\n",
            "tf.Tensor(0.012917424, shape=(), dtype=float32)\n",
            "tf.Tensor(0.012887764, shape=(), dtype=float32)\n",
            "tf.Tensor(0.015366098, shape=(), dtype=float32)\n"
          ]
        }
      ]
    },
    {
      "cell_type": "code",
      "metadata": {
        "id": "g8gOHTSkHMSA"
      },
      "source": [
        "model.layer11.trainable_variables"
      ],
      "execution_count": null,
      "outputs": []
    },
    {
      "cell_type": "code",
      "metadata": {
        "id": "6RE2AnGyTnyE"
      },
      "source": [
        "# Plotting loss v/s epoch'\n",
        "x_plot=epoch\n",
        "y_plot=loss_plot\n",
        "plt.plot(x_plot,y_plot)\n",
        "plt.xlabel('Epochs')\n",
        "plt.ylabel('Loss')\n",
        "plt.show()"
      ],
      "execution_count": null,
      "outputs": []
    },
    {
      "cell_type": "code",
      "metadata": {
        "id": "AerCLr6FUR3J"
      },
      "source": [
        "y,_ = model(t3,o)"
      ],
      "execution_count": null,
      "outputs": []
    },
    {
      "cell_type": "code",
      "metadata": {
        "id": "jFDzRL0DMIhn"
      },
      "source": [
        "S_pred=y[:,0]"
      ],
      "execution_count": null,
      "outputs": []
    },
    {
      "cell_type": "code",
      "metadata": {
        "id": "spQjkXc7MPeS"
      },
      "source": [
        "plt.plot(t3,S_t3, label = \"S(t) Original\")\n",
        "plt.plot(t3,S_pred, label = \"Prediction\")\n",
        "plt.grid()\n",
        "plt.legend()\n",
        "plt.show()"
      ],
      "execution_count": null,
      "outputs": []
    },
    {
      "cell_type": "code",
      "metadata": {
        "id": "Sw7yNGnWMdsz"
      },
      "source": [
        ""
      ],
      "execution_count": null,
      "outputs": []
    }
  ]
}