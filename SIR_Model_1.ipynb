{
  "nbformat": 4,
  "nbformat_minor": 0,
  "metadata": {
    "colab": {
      "name": "SIR_Model_1.ipynb",
      "provenance": [],
      "collapsed_sections": []
    },
    "kernelspec": {
      "display_name": "Python 3",
      "name": "python3"
    },
    "language_info": {
      "name": "python"
    }
  },
  "cells": [
    {
      "cell_type": "markdown",
      "metadata": {
        "id": "j4JY7ehFJAG0"
      },
      "source": [
        ""
      ]
    },
    {
      "cell_type": "code",
      "metadata": {
        "id": "XGJkLZvZ2vqH"
      },
      "source": [
        "import tensorflow as tf\n",
        "import numpy as np\n",
        "import scipy.io\n",
        "from tensorflow.keras import layers\n",
        "from tensorflow import keras\n",
        "from tensorflow.keras.layers import Flatten, Dense\n",
        "from tensorflow.keras.layers import Input, Dense, Activation, Concatenate\n",
        "from tensorflow.keras.models import Model\n",
        "import matplotlib.pyplot as plt"
      ],
      "execution_count": null,
      "outputs": []
    },
    {
      "cell_type": "code",
      "metadata": {
        "id": "dcT0QYAW21Eo"
      },
      "source": [
        "import scipy.integrate\n"
      ],
      "execution_count": null,
      "outputs": []
    },
    {
      "cell_type": "markdown",
      "metadata": {
        "id": "WESQOdkJ3E_u"
      },
      "source": [
        "Data Generation"
      ]
    },
    {
      "cell_type": "code",
      "metadata": {
        "id": "wtcH9NgI6TEl"
      },
      "source": [
        "# def SIRModel2(y,t,beta,gamma,N):\n",
        "#   S,I,R = y\n",
        "#   dSdt = -(beta*S*I)/N\n",
        "#   dIdt = (beta*S*I)/N - gamma*I\n",
        "#   dRdt = gamma*I\n",
        "\n",
        "#   return dSdt,dIdt,dRdt"
      ],
      "execution_count": null,
      "outputs": []
    },
    {
      "cell_type": "code",
      "metadata": {
        "id": "vmhaSrer741O"
      },
      "source": [
        "# # Initial Condition\n",
        "# S0 = 79999950\n",
        "# I0 = 50\n",
        "# R0 = 0\n",
        "# N =  80000000\n",
        "\n",
        "# beta = 0.5\n",
        "# gamma = 0.25\n",
        "\n",
        "# # Time vector\n",
        "# t = np.linspace(0,81,5000)\n",
        "# # Result\n",
        "# solution = scipy.integrate.odeint(SIRModel2,[S0,I0,R0],t,args=(beta,gamma,N))\n",
        "\n",
        "# solution = np.array(solution)\n",
        "# S_t = solution[:,0]\n",
        "# I_t = solution[:,1]\n",
        "# R_t = solution[:,2]\n",
        "\n",
        "\n",
        "# # Plotting\n",
        "# plt.plot(t,S_t, label = \"S(t)\")\n",
        "# plt.plot(t,I_t, label = \"I(t)\")\n",
        "# plt.plot(t,R_t, label = \"R(t)\")\n",
        "# plt.grid()\n",
        "# plt.legend()\n",
        "# plt.xlabel(\"time\")\n",
        "# plt.ylabel(\"population\")\n",
        "# plt.show()\"\"\"\n",
        "\n",
        "\n"
      ],
      "execution_count": null,
      "outputs": []
    },
    {
      "cell_type": "code",
      "metadata": {
        "id": "3Qtr3eNH3CTA"
      },
      "source": [
        "# def SIRModel(y,t,beta,gamma,N):\n",
        "#   S,I = y\n",
        "#   dSdt = -(beta*S*I)/N\n",
        "#   dIdt = (beta*S*I)/N - gamma*I\n",
        "\n",
        "#   return dSdt,dIdt"
      ],
      "execution_count": null,
      "outputs": []
    },
    {
      "cell_type": "code",
      "metadata": {
        "id": "Ljh0_C1P4D55"
      },
      "source": [
        "# # Initial Condition\n",
        "# S0 = 79999950\n",
        "# I0 = 50\n",
        "# N =  80000000\n",
        "\n",
        "# beta = 0.5\n",
        "# gamma = 0.25\n"
      ],
      "execution_count": null,
      "outputs": []
    },
    {
      "cell_type": "code",
      "metadata": {
        "id": "jjKmsHXj4e6P"
      },
      "source": [
        "# # Time vector\n",
        "# t = np.linspace(0,81,5000)"
      ],
      "execution_count": null,
      "outputs": []
    },
    {
      "cell_type": "code",
      "metadata": {
        "id": "DPTBVYtM4g_o"
      },
      "source": [
        "# # Result\n",
        "# solution = scipy.integrate.odeint(SIRModel,[S0,I0],t,args=(beta,gamma,N))"
      ],
      "execution_count": null,
      "outputs": []
    },
    {
      "cell_type": "code",
      "metadata": {
        "id": "OcRq0HSs5j9Y"
      },
      "source": [
        "# solution = np.array(solution)\n",
        "# S_t = solution[:,0]\n",
        "# I_t = solution[:,1]\n",
        "# R_t = N-S_t-I_t"
      ],
      "execution_count": null,
      "outputs": []
    },
    {
      "cell_type": "code",
      "metadata": {
        "id": "q6i-Ev7dUxRc"
      },
      "source": [
        "# t = np.array(t).reshape((5000,1))\n",
        "# t.shape"
      ],
      "execution_count": null,
      "outputs": []
    },
    {
      "cell_type": "code",
      "metadata": {
        "id": "0HWm61js58sQ"
      },
      "source": [
        "# # Plotting\n",
        "# plt.plot(t,S_t, label = \"S(t)\")\n",
        "# plt.plot(t,I_t, label = \"I(t)\")\n",
        "# plt.plot(t,R_t, label = \"R(t)\")\n",
        "# plt.grid()\n",
        "# plt.legend()\n",
        "# plt.xlabel(\"time\")\n",
        "# plt.ylabel(\"population\")\n",
        "# plt.show()"
      ],
      "execution_count": null,
      "outputs": []
    },
    {
      "cell_type": "code",
      "metadata": {
        "id": "HHzNk8s50Mvf"
      },
      "source": [
        "#print(S_t[4999]/80000000)"
      ],
      "execution_count": null,
      "outputs": []
    },
    {
      "cell_type": "code",
      "metadata": {
        "id": "IEJFiussycNH"
      },
      "source": [
        "def SIRModel2(y,t,beta,gamma):\n",
        "  S,I = y\n",
        "  dSdt = -(beta*S*I)\n",
        "  dIdt = (beta*S*I) - gamma*I\n",
        "\n",
        "  return dSdt,dIdt"
      ],
      "execution_count": null,
      "outputs": []
    },
    {
      "cell_type": "code",
      "metadata": {
        "colab": {
          "base_uri": "https://localhost:8080/"
        },
        "id": "cFxR3xrvypE2",
        "outputId": "1a23f79f-d446-4e89-9c89-0f2cf2f85585"
      },
      "source": [
        "#Initial Conditions\n",
        "# Initial Condition\n",
        "S0 = 79999950/80000000\n",
        "I0 = 50/80000000\n",
        "\n",
        "beta = 0.5\n",
        "gamma = 0.25\n",
        "print(S0)\n",
        "print(I0)"
      ],
      "execution_count": null,
      "outputs": [
        {
          "output_type": "stream",
          "text": [
            "0.999999375\n",
            "6.25e-07\n"
          ],
          "name": "stdout"
        }
      ]
    },
    {
      "cell_type": "code",
      "metadata": {
        "colab": {
          "base_uri": "https://localhost:8080/"
        },
        "id": "TK8uW_9vzHLa",
        "outputId": "407bf7bf-57ea-4aa0-c645-f5acc4e7d8eb"
      },
      "source": [
        "# Time vector\n",
        "t = np.linspace(0,81,5000)\n",
        "\n",
        "# Result\n",
        "solution = scipy.integrate.odeint(SIRModel2,[S0,I0],t,args=(beta,gamma))\n",
        "\n",
        "solution = np.array(solution)\n",
        "S_t = solution[:,0]\n",
        "I_t = solution[:,1]\n",
        "R_t = 1-S_t-I_t\n",
        "\n",
        "t = np.array(t).reshape((5000,1))\n",
        "t.shape"
      ],
      "execution_count": null,
      "outputs": [
        {
          "output_type": "execute_result",
          "data": {
            "text/plain": [
              "(5000, 1)"
            ]
          },
          "metadata": {
            "tags": []
          },
          "execution_count": 15
        }
      ]
    },
    {
      "cell_type": "code",
      "metadata": {
        "colab": {
          "base_uri": "https://localhost:8080/",
          "height": 279
        },
        "id": "YXwxYFEszYT0",
        "outputId": "4085e262-90f9-4aaf-9be5-ad9634f2871b"
      },
      "source": [
        "# Plotting\n",
        "plt.plot(t,S_t, label = \"S(t)\")\n",
        "plt.plot(t,I_t, label = \"I(t)\")\n",
        "plt.plot(t,R_t, label = \"R(t)\")\n",
        "plt.grid()\n",
        "plt.legend()\n",
        "plt.xlabel(\"time\")\n",
        "plt.ylabel(\"population\")\n",
        "plt.show()"
      ],
      "execution_count": null,
      "outputs": [
        {
          "output_type": "display_data",
          "data": {
            "image/png": "[encoded data removed]",
            "text/plain": [
              "<Figure size 432x288 with 1 Axes>"
            ]
          },
          "metadata": {
            "tags": [],
            "needs_background": "light"
          }
        }
      ]
    },
    {
      "cell_type": "markdown",
      "metadata": {
        "id": "nX1PQtUk_ml7"
      },
      "source": [
        "Min-Max Scaling\n",
        "\n",
        "\n",
        "---\n",
        "\n",
        "\n",
        "\n",
        "---\n",
        "\n"
      ]
    },
    {
      "cell_type": "code",
      "metadata": {
        "id": "0TvvZZQN8ObV"
      },
      "source": [
        "# from sklearn.preprocessing import MinMaxScaler"
      ],
      "execution_count": null,
      "outputs": []
    },
    {
      "cell_type": "code",
      "metadata": {
        "id": "NaLFZUPT_7bk"
      },
      "source": [
        "# scaler = MinMaxScaler()\n",
        "# S_t = S_t.reshape(-1,1)\n",
        "# I_t = I_t.reshape(-1,1)\n",
        "# S_t_rescaled = scaler.fit_transform(S_t)\n",
        "# I_t_rescaled = scaler.fit_transform(I_t)"
      ],
      "execution_count": null,
      "outputs": []
    },
    {
      "cell_type": "code",
      "metadata": {
        "id": "uFhye6DrQj-9"
      },
      "source": [
        "# # Plotting\n",
        "# plt.plot(t,S_t_rescaled, label = \"S(t) (Rescaled)\")\n",
        "# plt.plot(t,I_t_rescaled, label = \"I(t) (Rescaled)\")\n",
        "# plt.grid()\n",
        "# plt.legend()\n",
        "# plt.xlabel(\"time\")\n",
        "# plt.ylabel(\"population\")\n",
        "# plt.show()"
      ],
      "execution_count": null,
      "outputs": []
    },
    {
      "cell_type": "code",
      "metadata": {
        "id": "ttC1RXJ5OXRX"
      },
      "source": [
        "# Training Data for SIR Model\n",
        "t_train = tf.convert_to_tensor(t.astype('float32'))\n",
        "#S_t_rescaled_train = tf.convert_to_tensor(S_t_rescaled.astype('float32'))\n",
        "#I_t_rescaled_train = tf.convert_to_tensor(I_t_rescaled.astype('float32'))\n",
        "S_t_train = tf.convert_to_tensor(S_t.astype('float32'))\n",
        "I_t_train = tf.convert_to_tensor(I_t.astype('float32'))"
      ],
      "execution_count": null,
      "outputs": []
    },
    {
      "cell_type": "code",
      "metadata": {
        "colab": {
          "base_uri": "https://localhost:8080/"
        },
        "id": "q4P8e4bnJTac",
        "outputId": "d9dd6081-77cc-4e9c-ee7f-e451d3df3316"
      },
      "source": [
        "print(S_t_train)\n",
        "print(I_t_train)\n",
        "print(t_train)"
      ],
      "execution_count": null,
      "outputs": [
        {
          "output_type": "stream",
          "text": [
            "tf.Tensor([0.9999994  0.99999934 0.99999934 ... 0.21102811 0.21100917 0.2109903 ], shape=(5000,), dtype=float32)\n",
            "tf.Tensor(\n",
            "[6.24999984e-07 6.27536906e-07 6.30084060e-07 ... 1.10902870e-02\n",
            " 1.10643525e-02 1.10384766e-02], shape=(5000,), dtype=float32)\n",
            "tf.Tensor(\n",
            "[[0.0000000e+00]\n",
            " [1.6203241e-02]\n",
            " [3.2406483e-02]\n",
            " ...\n",
            " [8.0967590e+01]\n",
            " [8.0983795e+01]\n",
            " [8.1000000e+01]], shape=(5000, 1), dtype=float32)\n"
          ],
          "name": "stdout"
        }
      ]
    },
    {
      "cell_type": "code",
      "metadata": {
        "colab": {
          "base_uri": "https://localhost:8080/"
        },
        "id": "Xx5VU_NU0AGi",
        "outputId": "0358ca8e-837b-4340-f2b1-03c9787878d2"
      },
      "source": [
        "print(S_t_train[4999])"
      ],
      "execution_count": null,
      "outputs": [
        {
          "output_type": "stream",
          "text": [
            "tf.Tensor(0.2109903, shape=(), dtype=float32)\n"
          ],
          "name": "stdout"
        }
      ]
    },
    {
      "cell_type": "code",
      "metadata": {
        "colab": {
          "base_uri": "https://localhost:8080/"
        },
        "id": "V7RKPsAHQF-6",
        "outputId": "a2149c43-9dcd-4b94-a692-ffba7df173db"
      },
      "source": [
        "o=np.ones((5000,1)).astype('float32')\n",
        "o=tf.convert_to_tensor(o)\n",
        "o"
      ],
      "execution_count": null,
      "outputs": [
        {
          "output_type": "execute_result",
          "data": {
            "text/plain": [
              "<tf.Tensor: shape=(5000, 1), dtype=float32, numpy=\n",
              "array([[1.],\n",
              "       [1.],\n",
              "       [1.],\n",
              "       ...,\n",
              "       [1.],\n",
              "       [1.],\n",
              "       [1.]], dtype=float32)>"
            ]
          },
          "metadata": {
            "tags": []
          },
          "execution_count": 23
        }
      ]
    },
    {
      "cell_type": "markdown",
      "metadata": {
        "id": "s5ozyk6hStOc"
      },
      "source": [
        "Custom Model"
      ]
    },
    {
      "cell_type": "code",
      "metadata": {
        "id": "1oIxT_MJR2AG"
      },
      "source": [
        "class Custom_model1(Model):\n",
        "    \n",
        "    def __init__(self, **kwargs):\n",
        "        super(Custom_model1, self).__init__(**kwargs)\n",
        "        self.layer1 = Dense(100, activation='selu',name='layer1')\n",
        "        self.layer2 = Dense(100, activation='selu',name='layer2')\n",
        "        self.layer3 = Dense(100, activation='selu',name='layer3')\n",
        "        self.layer4 = Dense(100, activation='selu',name='layer4')\n",
        "        self.layer5 = Dense(100, activation='selu',name='layer5')\n",
        "        self.layer6 = Dense(100, activation='selu',name='layer6')\n",
        "        self.layer7 = Dense(100, activation='selu',name='layer7')\n",
        "        self.layer8 = Dense(100, activation='selu',name='layer8')\n",
        "        self.layer9 = Dense(100, activation='selu',name='layer9')\n",
        "        self.layer10 = Dense(2, activation=None,name='layer10')\n",
        "        self.layer11 = Dense(1, activation=None,use_bias=False)\n",
        "\n",
        "    def call(self, t, o):\n",
        "        z = self.layer1(t)\n",
        "        z = self.layer2(z)\n",
        "        z = self.layer3(z)\n",
        "        z = self.layer4(z)\n",
        "        z = self.layer5(z)\n",
        "        z = self.layer6(z)\n",
        "        z = self.layer7(z)\n",
        "        z = self.layer8(z)\n",
        "        z = self.layer9(z)\n",
        "        z = self.layer10(z)\n",
        "        z1 = self.layer11(o)\n",
        "        return z,z1"
      ],
      "execution_count": null,
      "outputs": []
    },
    {
      "cell_type": "code",
      "metadata": {
        "id": "rMn_qj8UTxt4"
      },
      "source": [
        "model = Custom_model1()"
      ],
      "execution_count": null,
      "outputs": []
    },
    {
      "cell_type": "code",
      "metadata": {
        "colab": {
          "base_uri": "https://localhost:8080/"
        },
        "id": "vBbj8QSIT0Lj",
        "outputId": "70f28ce7-0548-4c8a-8a44-b0663d0f7bc1"
      },
      "source": [
        "y,_ = model(t_train,o)\n",
        "print(y)"
      ],
      "execution_count": null,
      "outputs": [
        {
          "output_type": "stream",
          "text": [
            "tf.Tensor(\n",
            "[[ 0.          0.        ]\n",
            " [ 0.1087219   0.04293443]\n",
            " [ 0.19906591  0.07526049]\n",
            " ...\n",
            " [-1.1604165  -1.3883994 ]\n",
            " [-1.1604991  -1.3886259 ]\n",
            " [-1.1605879  -1.3888499 ]], shape=(5000, 2), dtype=float32)\n"
          ],
          "name": "stdout"
        }
      ]
    },
    {
      "cell_type": "code",
      "metadata": {
        "colab": {
          "base_uri": "https://localhost:8080/"
        },
        "id": "mD12oKrnUGyl",
        "outputId": "3aa45317-3d4a-4f7b-eaa3-6e7570a035b3"
      },
      "source": [
        "model.layer11.trainable_weights"
      ],
      "execution_count": null,
      "outputs": [
        {
          "output_type": "execute_result",
          "data": {
            "text/plain": [
              "[<tf.Variable 'custom_model1/dense/kernel:0' shape=(1, 1) dtype=float32, numpy=array([[-0.520159]], dtype=float32)>]"
            ]
          },
          "metadata": {
            "tags": []
          },
          "execution_count": 27
        }
      ]
    },
    {
      "cell_type": "code",
      "metadata": {
        "colab": {
          "base_uri": "https://localhost:8080/"
        },
        "id": "iciftExEVAhb",
        "outputId": "d297ef1f-c640-4d6c-d6f9-f126a13d5ddb"
      },
      "source": [
        "model.summary()"
      ],
      "execution_count": null,
      "outputs": [
        {
          "output_type": "stream",
          "text": [
            "Model: \"custom_model1\"\n",
            "_________________________________________________________________\n",
            "Layer (type)                 Output Shape              Param #   \n",
            "=================================================================\n",
            "layer1 (Dense)               multiple                  200       \n",
            "_________________________________________________________________\n",
            "layer2 (Dense)               multiple                  10100     \n",
            "_________________________________________________________________\n",
            "layer3 (Dense)               multiple                  10100     \n",
            "_________________________________________________________________\n",
            "layer4 (Dense)               multiple                  10100     \n",
            "_________________________________________________________________\n",
            "layer5 (Dense)               multiple                  10100     \n",
            "_________________________________________________________________\n",
            "layer6 (Dense)               multiple                  10100     \n",
            "_________________________________________________________________\n",
            "layer7 (Dense)               multiple                  10100     \n",
            "_________________________________________________________________\n",
            "layer8 (Dense)               multiple                  10100     \n",
            "_________________________________________________________________\n",
            "layer9 (Dense)               multiple                  10100     \n",
            "_________________________________________________________________\n",
            "layer10 (Dense)              multiple                  202       \n",
            "_________________________________________________________________\n",
            "dense (Dense)                multiple                  1         \n",
            "=================================================================\n",
            "Total params: 81,203\n",
            "Trainable params: 81,203\n",
            "Non-trainable params: 0\n",
            "_________________________________________________________________\n"
          ],
          "name": "stdout"
        }
      ]
    },
    {
      "cell_type": "markdown",
      "metadata": {
        "id": "aneL--2WXDFb"
      },
      "source": [
        "Custom Loss\n"
      ]
    },
    {
      "cell_type": "code",
      "metadata": {
        "id": "w8co3873VDno"
      },
      "source": [
        "def loss(model, S_t_train, I_t_train, t_train, o, training):\n",
        "    y,_ = model(t_train, o, training = training)\n",
        "    S_pred = y[:,0]\n",
        "    I_pred = y[:,1]\n",
        "    with tf.GradientTape(persistent = True) as t1:\n",
        "        t1.watch(t_train)\n",
        "        y,beta = model(t_train, o)\n",
        "        S = y[:,0]\n",
        "        I = y[:,1]\n",
        "    dS_dt = t1.gradient(S, t_train)\n",
        "    dI_dt = t1.gradient(I, t_train)\n",
        "    f_pred = dS_dt + (beta*S*I) \n",
        "    g_pred = dI_dt - (beta*S*I) + 0.25*I  \n",
        "    return tf.reduce_mean(tf.square(S_t_train - S_pred)) + tf.reduce_mean(tf.square(I_t_train - I_pred)) + tf.reduce_mean(tf.square(f_pred)) + tf.reduce_mean(tf.square(g_pred))"
      ],
      "execution_count": null,
      "outputs": []
    },
    {
      "cell_type": "code",
      "metadata": {
        "colab": {
          "base_uri": "https://localhost:8080/"
        },
        "id": "Jh_SkSBEZto8",
        "outputId": "21761fa6-1ad2-4da2-dfcd-f6f43ba8fe9d"
      },
      "source": [
        "loss(model, S_t_train, I_t_train, t_train, o, training=True)"
      ],
      "execution_count": null,
      "outputs": [
        {
          "output_type": "execute_result",
          "data": {
            "text/plain": [
              "<tf.Tensor: shape=(), dtype=float32, numpy=6.7303>"
            ]
          },
          "metadata": {
            "tags": []
          },
          "execution_count": 30
        }
      ]
    },
    {
      "cell_type": "code",
      "metadata": {
        "colab": {
          "base_uri": "https://localhost:8080/"
        },
        "id": "ZR2hTyHPZ2pN",
        "outputId": "2133d765-af0d-46ca-fe79-df8249493859"
      },
      "source": [
        "model.layer11.trainable_variables"
      ],
      "execution_count": null,
      "outputs": [
        {
          "output_type": "execute_result",
          "data": {
            "text/plain": [
              "[<tf.Variable 'custom_model1/dense/kernel:0' shape=(1, 1) dtype=float32, numpy=array([[-0.520159]], dtype=float32)>]"
            ]
          },
          "metadata": {
            "tags": []
          },
          "execution_count": 31
        }
      ]
    },
    {
      "cell_type": "code",
      "metadata": {
        "colab": {
          "base_uri": "https://localhost:8080/"
        },
        "id": "1xJxaiW1agt6",
        "outputId": "f84fde03-7b31-455d-9836-bf1297890aa0"
      },
      "source": [
        "def train(model, S_t_train, I_t_train, t_train, o):\n",
        "    with tf.GradientTape() as t:\n",
        "        current_loss = loss(model, S_t_train, I_t_train, t_train, o, training=True)\n",
        "    grads = t.gradient(current_loss, model.trainable_variables)\n",
        "    return current_loss, grads\n",
        "\n",
        "optimizer=tf.keras.optimizers.Adam(learning_rate=0.0015)\n",
        "epoch=[]\n",
        "loss_plot=[]\n",
        "model = Custom_model1()\n",
        "ne=4000\n",
        "for i in range(ne):\n",
        "    loss_avg = tf.keras.metrics.Mean()\n",
        "    c_l,grad=train(model, S_t_train, I_t_train, t_train, o)\n",
        "    optimizer.apply_gradients((grad, var) for (grad, var) in zip(grad, model.trainable_variables) if grad is not None)\n",
        "    loss_avg.update_state(c_l)\n",
        "  \n",
        "    if i%100==0:\n",
        "      epoch.append(i)\n",
        "      loss_plot.append(loss_avg.result())\n",
        "      print(loss_avg.result())"
      ],
      "execution_count": null,
      "outputs": [
        {
          "output_type": "stream",
          "text": [
            "tf.Tensor(3.2291899, shape=(), dtype=float32)\n",
            "tf.Tensor(0.004447416, shape=(), dtype=float32)\n",
            "tf.Tensor(0.0019574843, shape=(), dtype=float32)\n",
            "tf.Tensor(0.0011939335, shape=(), dtype=float32)\n",
            "tf.Tensor(0.0009439219, shape=(), dtype=float32)\n",
            "tf.Tensor(0.00085517333, shape=(), dtype=float32)\n",
            "tf.Tensor(0.0007315799, shape=(), dtype=float32)\n",
            "tf.Tensor(0.0007602308, shape=(), dtype=float32)\n",
            "tf.Tensor(0.0006986563, shape=(), dtype=float32)\n",
            "tf.Tensor(0.0006263238, shape=(), dtype=float32)\n",
            "tf.Tensor(0.0006350711, shape=(), dtype=float32)\n",
            "tf.Tensor(0.00061064586, shape=(), dtype=float32)\n",
            "tf.Tensor(0.00059345446, shape=(), dtype=float32)\n",
            "tf.Tensor(0.0005735809, shape=(), dtype=float32)\n",
            "tf.Tensor(0.0006112885, shape=(), dtype=float32)\n",
            "tf.Tensor(0.0006003176, shape=(), dtype=float32)\n",
            "tf.Tensor(0.0006124115, shape=(), dtype=float32)\n",
            "tf.Tensor(0.0005694091, shape=(), dtype=float32)\n",
            "tf.Tensor(0.0006654885, shape=(), dtype=float32)\n",
            "tf.Tensor(0.0005726561, shape=(), dtype=float32)\n",
            "tf.Tensor(0.0005946867, shape=(), dtype=float32)\n",
            "tf.Tensor(0.00058332586, shape=(), dtype=float32)\n",
            "tf.Tensor(0.00058958563, shape=(), dtype=float32)\n",
            "tf.Tensor(0.0005668676, shape=(), dtype=float32)\n",
            "tf.Tensor(0.0005800101, shape=(), dtype=float32)\n",
            "tf.Tensor(0.00057165325, shape=(), dtype=float32)\n",
            "tf.Tensor(0.0005586617, shape=(), dtype=float32)\n",
            "tf.Tensor(0.0009780859, shape=(), dtype=float32)\n",
            "tf.Tensor(0.00056027155, shape=(), dtype=float32)\n",
            "tf.Tensor(0.00054933486, shape=(), dtype=float32)\n",
            "tf.Tensor(0.0005523742, shape=(), dtype=float32)\n",
            "tf.Tensor(0.0005414532, shape=(), dtype=float32)\n",
            "tf.Tensor(0.0005279365, shape=(), dtype=float32)\n",
            "tf.Tensor(0.00052338594, shape=(), dtype=float32)\n",
            "tf.Tensor(0.026537979, shape=(), dtype=float32)\n",
            "tf.Tensor(0.0005358254, shape=(), dtype=float32)\n",
            "tf.Tensor(0.0005372616, shape=(), dtype=float32)\n",
            "tf.Tensor(0.0005215196, shape=(), dtype=float32)\n",
            "tf.Tensor(0.0005155181, shape=(), dtype=float32)\n",
            "tf.Tensor(0.0017238876, shape=(), dtype=float32)\n"
          ],
          "name": "stdout"
        }
      ]
    },
    {
      "cell_type": "code",
      "metadata": {
        "id": "_Vx3_8Ora2DN",
        "colab": {
          "base_uri": "https://localhost:8080/"
        },
        "outputId": "2a2db697-de5d-4791-bbb9-adec7382fe65"
      },
      "source": [
        "model.layer11.trainable_variables"
      ],
      "execution_count": null,
      "outputs": [
        {
          "output_type": "execute_result",
          "data": {
            "text/plain": [
              "[<tf.Variable 'custom_model1_2/dense_2/kernel:0' shape=(1, 1) dtype=float32, numpy=array([[0.5440206]], dtype=float32)>]"
            ]
          },
          "metadata": {
            "tags": []
          },
          "execution_count": 34
        }
      ]
    },
    {
      "cell_type": "code",
      "metadata": {
        "colab": {
          "base_uri": "https://localhost:8080/"
        },
        "id": "OiwPMNlIodHR",
        "outputId": "286c65a2-d247-47fe-b6f2-562c5b8090f7"
      },
      "source": [
        "len(loss_plot)\n",
        "\n"
      ],
      "execution_count": null,
      "outputs": [
        {
          "output_type": "execute_result",
          "data": {
            "text/plain": [
              "40"
            ]
          },
          "metadata": {
            "tags": []
          },
          "execution_count": 35
        }
      ]
    },
    {
      "cell_type": "code",
      "metadata": {
        "colab": {
          "base_uri": "https://localhost:8080/",
          "height": 279
        },
        "id": "RlgTj7Xjn428",
        "outputId": "26ee886a-4558-4520-d121-dce4d6e8debb"
      },
      "source": [
        "# Plotting loss v/s epoch'\n",
        "x_plot=epoch\n",
        "y_plot=loss_plot\n",
        "plt.plot(x_plot,y_plot)\n",
        "plt.xlabel('Epochs')\n",
        "plt.ylabel('Loss')\n",
        "plt.show()"
      ],
      "execution_count": null,
      "outputs": [
        {
          "output_type": "display_data",
          "data": {
            "image/png": "[encoded data removed]",
            "text/plain": [
              "<Figure size 432x288 with 1 Axes>"
            ]
          },
          "metadata": {
            "tags": [],
            "needs_background": "light"
          }
        }
      ]
    },
    {
      "cell_type": "code",
      "metadata": {
        "colab": {
          "base_uri": "https://localhost:8080/"
        },
        "id": "RfYxixX8DXUf",
        "outputId": "29699020-1305-4b84-b54e-6bafab6a8c36"
      },
      "source": [
        "model(t_train,o)"
      ],
      "execution_count": null,
      "outputs": [
        {
          "output_type": "execute_result",
          "data": {
            "text/plain": [
              "(<tf.Tensor: shape=(5000, 2), dtype=float32, numpy=\n",
              " array([[58771028. ,  2875165.8],\n",
              "        [58793896. ,  2876285.5],\n",
              "        [58816268. ,  2877379.2],\n",
              "        ...,\n",
              "        [59319692. ,  2902009.2],\n",
              "        [59319900. ,  2902019.8],\n",
              "        [59320110. ,  2902030.2]], dtype=float32)>,\n",
              " <tf.Tensor: shape=(5000, 1), dtype=float32, numpy=\n",
              " array([[0.01133548],\n",
              "        [0.01133548],\n",
              "        [0.01133548],\n",
              "        ...,\n",
              "        [0.01133548],\n",
              "        [0.01133548],\n",
              "        [0.01133548]], dtype=float32)>)"
            ]
          },
          "metadata": {
            "tags": []
          },
          "execution_count": 120
        }
      ]
    },
    {
      "cell_type": "code",
      "metadata": {
        "id": "E7fODdzmE7IN"
      },
      "source": [
        ""
      ],
      "execution_count": null,
      "outputs": []
    }
  ]
}