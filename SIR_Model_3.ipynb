{
  "nbformat": 4,
  "nbformat_minor": 0,
  "metadata": {
    "colab": {
      "name": "SIR_Model_3.ipynb",
      "provenance": []
    },
    "kernelspec": {
      "name": "python3",
      "display_name": "Python 3"
    },
    "language_info": {
      "name": "python"
    }
  },
  "cells": [
    {
      "cell_type": "code",
      "metadata": {
        "id": "Rdd_C1vUHS5N"
      },
      "source": [
        "import tensorflow as tf\n",
        "import numpy as np\n",
        "import scipy.io\n",
        "from tensorflow.keras import layers\n",
        "from tensorflow import keras\n",
        "from tensorflow.keras.layers import Flatten, Dense\n",
        "from tensorflow.keras.layers import Input, Dense, Activation, Concatenate\n",
        "from tensorflow.keras.models import Model\n",
        "import matplotlib.pyplot as plt\n",
        "import scipy.integrate"
      ],
      "execution_count": null,
      "outputs": []
    },
    {
      "cell_type": "code",
      "metadata": {
        "id": "trZwmd0LHUIW"
      },
      "source": [
        "#t=np.linspace(0,101,100)"
      ],
      "execution_count": null,
      "outputs": []
    },
    {
      "cell_type": "code",
      "metadata": {
        "id": "q2rdJc08IGts"
      },
      "source": [
        "#print(t)"
      ],
      "execution_count": null,
      "outputs": []
    },
    {
      "cell_type": "code",
      "metadata": {
        "id": "NW4Ap8zeHeX5"
      },
      "source": [
        "#beta=0.6/(1+np.exp(-t))"
      ],
      "execution_count": null,
      "outputs": []
    },
    {
      "cell_type": "code",
      "metadata": {
        "id": "0gyqNSzQHnEr"
      },
      "source": [
        "# plt.plot(t,beta)\n",
        "# plt.grid()\n",
        "# plt.show()"
      ],
      "execution_count": null,
      "outputs": []
    },
    {
      "cell_type": "code",
      "metadata": {
        "id": "ogTtieOlIC0v"
      },
      "source": [
        "def SIRModel2(y,t,beta,gamma):\n",
        "  S,I = y\n",
        "  beta = 0.7/(1+np.exp(-t))\n",
        "  dSdt = -(beta*S*I)\n",
        "  dIdt = (beta*S*I) - gamma*I\n",
        "\n",
        "  return dSdt,dIdt"
      ],
      "execution_count": null,
      "outputs": []
    },
    {
      "cell_type": "code",
      "metadata": {
        "colab": {
          "base_uri": "https://localhost:8080/"
        },
        "id": "6YI-xReKJKyD",
        "outputId": "9148de4f-89d6-4b16-c14d-d8e2e565939c"
      },
      "source": [
        "# Initial Condition\n",
        "S0 = 79999950/80000000\n",
        "I0 = 50/80000000\n",
        "#beta = 0.6\n",
        "gamma = 0.25\n",
        "print(S0)\n",
        "print(I0)"
      ],
      "execution_count": null,
      "outputs": [
        {
          "output_type": "stream",
          "text": [
            "0.999999375\n",
            "6.25e-07\n"
          ],
          "name": "stdout"
        }
      ]
    },
    {
      "cell_type": "code",
      "metadata": {
        "id": "chUUu6KfJObo"
      },
      "source": [
        "tc = np.linspace(0,41,40000)\n",
        "t1 = tc[0:5000]\n",
        "t2 = tc[5000:10000]\n",
        "t3 = tc[10000:15000]\n",
        "t4 = tc[15000:20000] \n",
        "t5 = tc[20000:25000]\n",
        "t6 = tc[25000:30000]\n",
        "t7 = tc[30000:35000]\n",
        "t8 = tc[35000:40000]\n",
        "beta = 0.7/(1+np.exp(-tc))"
      ],
      "execution_count": null,
      "outputs": []
    },
    {
      "cell_type": "code",
      "metadata": {
        "id": "ioj7ZIWTJRVZ"
      },
      "source": [
        "solution = scipy.integrate.odeint(SIRModel2,[S0,I0],tc,args=(beta,gamma))"
      ],
      "execution_count": null,
      "outputs": []
    },
    {
      "cell_type": "code",
      "metadata": {
        "id": "kCc8mG36JXQE"
      },
      "source": [
        "solution = np.array(solution)\n",
        "S_t = solution[:,0]\n",
        "I_t = solution[:,1]\n",
        "R_t = 1-S_t-I_t"
      ],
      "execution_count": null,
      "outputs": []
    },
    {
      "cell_type": "code",
      "metadata": {
        "id": "l23oVn7mNdkR"
      },
      "source": [
        "tc = np.array(tc).reshape((40000,1))\n",
        "t1 = np.array(t1).reshape((5000,1))\n",
        "t2 = np.array(t2).reshape((5000,1))\n",
        "t3 = np.array(t3).reshape((5000,1))\n",
        "t4 = np.array(t4).reshape((5000,1))\n",
        "t5 = np.array(t5).reshape((5000,1))\n",
        "t6 = np.array(t6).reshape((5000,1))\n",
        "t7 = np.array(t7).reshape((5000,1))\n",
        "t8 = np.array(t8).reshape((5000,1))"
      ],
      "execution_count": null,
      "outputs": []
    },
    {
      "cell_type": "code",
      "metadata": {
        "id": "3_ZQRdugNr5R"
      },
      "source": [
        "S_t1 = S_t[0:5000]\n",
        "I_t1 = I_t[0:5000]\n",
        "\n",
        "S_t2 = S_t[5000:10000]\n",
        "I_t2 = I_t[5000:10000]\n",
        "\n",
        "S_t3 = S_t[10000:15000]\n",
        "I_t3 = I_t[10000:15000]\n",
        "\n",
        "S_t4 = S_t[15000:20000]\n",
        "I_t4 = I_t[15000:20000]\n",
        "\n",
        "S_t5 = S_t[20000:25000]\n",
        "I_t5 = I_t[20000:25000]\n",
        "\n",
        "S_t6 = S_t[25000:30000]\n",
        "I_t6 = I_t[25000:30000]\n",
        "\n",
        "S_t7 = S_t[30000:35000]\n",
        "I_t7 = I_t[30000:35000]\n",
        "\n",
        "S_t8 = S_t[35000:40000]\n",
        "I_t8 = I_t[35000:40000]"
      ],
      "execution_count": null,
      "outputs": []
    },
    {
      "cell_type": "code",
      "metadata": {
        "colab": {
          "base_uri": "https://localhost:8080/",
          "height": 279
        },
        "id": "X1ih5_JILqOQ",
        "outputId": "dc539d05-3cda-4cfe-9048-835b467145d2"
      },
      "source": [
        "plt.plot(tc,S_t, label = \"S(t)\")\n",
        "plt.plot(tc,I_t, label = \"I(t)\")\n",
        "plt.plot(tc,R_t, label = \"R(t)\")\n",
        "plt.grid()\n",
        "plt.legend()\n",
        "plt.xlabel(\"time\")\n",
        "plt.ylabel(\"population\")\n",
        "plt.show()"
      ],
      "execution_count": null,
      "outputs": [
        {
          "output_type": "display_data",
          "data": {
            "image/png": "[encoded data removed]",
            "text/plain": [
              "<Figure size 432x288 with 1 Axes>"
            ]
          },
          "metadata": {
            "needs_background": "light"
          }
        }
      ]
    },
    {
      "cell_type": "code",
      "metadata": {
        "id": "9hztZisULuRR"
      },
      "source": [
        "S_test = np.hstack((S_t1,S_t2,S_t3,S_t4,S_t5,S_t6,S_t7,S_t8))\n",
        "I_test = np.hstack((I_t1,I_t2,I_t3,I_t4,I_t5,I_t6,I_t7,I_t8))"
      ],
      "execution_count": null,
      "outputs": []
    },
    {
      "cell_type": "code",
      "metadata": {
        "colab": {
          "base_uri": "https://localhost:8080/",
          "height": 279
        },
        "id": "VZYSJ0iCOZKI",
        "outputId": "8679f89a-ecb8-4968-aba9-882c569e7fe2"
      },
      "source": [
        "# Plotting\n",
        "plt.plot(tc,S_test, label = \"S(t)\")\n",
        "plt.plot(tc,I_test, label = \"I(t)\")\n",
        "plt.grid()\n",
        "plt.legend()\n",
        "plt.xlabel(\"time\")\n",
        "plt.ylabel(\"population\")\n",
        "plt.show()"
      ],
      "execution_count": null,
      "outputs": [
        {
          "output_type": "display_data",
          "data": {
            "image/png": "[encoded data removed]",
            "text/plain": [
              "<Figure size 432x288 with 1 Axes>"
            ]
          },
          "metadata": {
            "needs_background": "light"
          }
        }
      ]
    },
    {
      "cell_type": "code",
      "metadata": {
        "id": "R8h7ExO8Obdy"
      },
      "source": [
        "# Convert To Tensor\n",
        "tc = tf.convert_to_tensor(tc.astype('float32'))\n",
        "t1 = tf.convert_to_tensor(t1.astype('float32'))\n",
        "t2 = tf.convert_to_tensor(t2.astype('float32'))\n",
        "t3 = tf.convert_to_tensor(t3.astype('float32'))\n",
        "t4 = tf.convert_to_tensor(t4.astype('float32'))\n",
        "t5 = tf.convert_to_tensor(t5.astype('float32'))\n",
        "t6 = tf.convert_to_tensor(t6.astype('float32'))\n",
        "t7 = tf.convert_to_tensor(t7.astype('float32'))\n",
        "t8 = tf.convert_to_tensor(t8.astype('float32'))"
      ],
      "execution_count": null,
      "outputs": []
    },
    {
      "cell_type": "code",
      "metadata": {
        "id": "MmiveqA6OjN7"
      },
      "source": [
        "# Convert To Tensor\n",
        "S_t = tf.convert_to_tensor(S_t.astype('float32'))\n",
        "S_t1 = tf.convert_to_tensor(S_t1.astype('float32'))\n",
        "S_t2 = tf.convert_to_tensor(S_t2.astype('float32'))\n",
        "S_t3 = tf.convert_to_tensor(S_t3.astype('float32'))\n",
        "S_t4 = tf.convert_to_tensor(S_t4.astype('float32'))\n",
        "S_t5 = tf.convert_to_tensor(S_t5.astype('float32'))\n",
        "S_t6 = tf.convert_to_tensor(S_t6.astype('float32'))\n",
        "S_t7 = tf.convert_to_tensor(S_t7.astype('float32'))\n",
        "S_t8 = tf.convert_to_tensor(S_t8.astype('float32'))"
      ],
      "execution_count": null,
      "outputs": []
    },
    {
      "cell_type": "code",
      "metadata": {
        "id": "WF9_hafBOzmw"
      },
      "source": [
        "# Convert To Tensor\n",
        "I_t = tf.convert_to_tensor(I_t.astype('float32'))\n",
        "I_t1 = tf.convert_to_tensor(I_t1.astype('float32'))\n",
        "I_t2 = tf.convert_to_tensor(I_t2.astype('float32'))\n",
        "I_t3 = tf.convert_to_tensor(I_t3.astype('float32'))\n",
        "I_t4 = tf.convert_to_tensor(I_t4.astype('float32'))\n",
        "I_t5 = tf.convert_to_tensor(I_t5.astype('float32'))\n",
        "I_t6 = tf.convert_to_tensor(I_t6.astype('float32'))\n",
        "I_t7 = tf.convert_to_tensor(I_t7.astype('float32'))\n",
        "I_t8 = tf.convert_to_tensor(I_t8.astype('float32'))"
      ],
      "execution_count": null,
      "outputs": []
    },
    {
      "cell_type": "markdown",
      "metadata": {
        "id": "_UixtJ85PrZW"
      },
      "source": [
        "Custom Model\n"
      ]
    },
    {
      "cell_type": "code",
      "metadata": {
        "id": "CoDS0K-OPJf-"
      },
      "source": [
        "class Custom_model1(Model):\n",
        "    \n",
        "    def __init__(self, **kwargs):\n",
        "        super(Custom_model1, self).__init__(**kwargs)\n",
        "        self.layer1 = Dense(100, activation='selu',name='layer1')\n",
        "        self.layer2 = Dense(100, activation='selu',name='layer2')\n",
        "        self.layer3 = Dense(100, activation='selu',name='layer3')\n",
        "        self.layer4 = Dense(100, activation='selu',name='layer4')\n",
        "        self.layer5 = Dense(100, activation='selu',name='layer5')\n",
        "        self.layer6 = Dense(100, activation='selu',name='layer6')\n",
        "        self.layer7 = Dense(100, activation='selu',name='layer7')\n",
        "        self.layer8 = Dense(100, activation='selu',name='layer8')\n",
        "        self.layer9 = Dense(100, activation='selu',name='layer9')\n",
        "        self.layer10 = Dense(2, activation=None,name='layer10')\n",
        "        self.layer11 = Dense(1, activation='sigmoid',use_bias=False)\n",
        "\n",
        "    def call(self, t):\n",
        "        z = self.layer1(t)\n",
        "        z = self.layer2(z)\n",
        "        z = self.layer3(z)\n",
        "        z = self.layer4(z)\n",
        "        z = self.layer5(z)\n",
        "        z = self.layer6(z)\n",
        "        z = self.layer7(z)\n",
        "        z = self.layer8(z)\n",
        "        z = self.layer9(z)\n",
        "        z = self.layer10(z)\n",
        "        z1 = self.layer11(t)\n",
        "        return z,z1"
      ],
      "execution_count": null,
      "outputs": []
    },
    {
      "cell_type": "code",
      "metadata": {
        "id": "feUZDbZ-P-c9"
      },
      "source": [
        "model = Custom_model1()"
      ],
      "execution_count": null,
      "outputs": []
    },
    {
      "cell_type": "code",
      "metadata": {
        "colab": {
          "base_uri": "https://localhost:8080/"
        },
        "id": "6rEK8nskQBJX",
        "outputId": "e95ca3ca-417c-48bd-cf4a-d44b1458188e"
      },
      "source": [
        "y,_ = model(tc)\n",
        "print(y)\n",
        "print(_)"
      ],
      "execution_count": null,
      "outputs": [
        {
          "output_type": "stream",
          "text": [
            "tf.Tensor(\n",
            "[[ 0.          0.        ]\n",
            " [-0.01463476  0.00524299]\n",
            " [-0.02914704  0.01041651]\n",
            " ...\n",
            " [ 1.5360131  -1.1270362 ]\n",
            " [ 1.5360719  -1.1270108 ]\n",
            " [ 1.5361334  -1.1269851 ]], shape=(40000, 2), dtype=float32)\n",
            "tf.Tensor(\n",
            "[[5.0000000e-01]\n",
            " [4.9965563e-01]\n",
            " [4.9931124e-01]\n",
            " ...\n",
            " [1.1807484e-24]\n",
            " [1.1791279e-24]\n",
            " [1.1775007e-24]], shape=(40000, 1), dtype=float32)\n"
          ],
          "name": "stdout"
        }
      ]
    },
    {
      "cell_type": "code",
      "metadata": {
        "colab": {
          "base_uri": "https://localhost:8080/"
        },
        "id": "OV_g5LwUQGD_",
        "outputId": "16013b8d-2490-4bea-f0df-c70a00258403"
      },
      "source": [
        "model.layer11.trainable_weights"
      ],
      "execution_count": null,
      "outputs": [
        {
          "output_type": "execute_result",
          "data": {
            "text/plain": [
              "[<tf.Variable 'custom_model1/dense/kernel:0' shape=(1, 1) dtype=float32, numpy=array([[-1.3438694]], dtype=float32)>]"
            ]
          },
          "metadata": {},
          "execution_count": 40
        }
      ]
    },
    {
      "cell_type": "code",
      "metadata": {
        "colab": {
          "base_uri": "https://localhost:8080/"
        },
        "id": "zgOlju35Qa3L",
        "outputId": "6a630295-9f53-4369-a74c-76e3d96c8596"
      },
      "source": [
        "model.summary()"
      ],
      "execution_count": null,
      "outputs": [
        {
          "output_type": "stream",
          "text": [
            "Model: \"custom_model1\"\n",
            "_________________________________________________________________\n",
            "Layer (type)                 Output Shape              Param #   \n",
            "=================================================================\n",
            "layer1 (Dense)               multiple                  200       \n",
            "_________________________________________________________________\n",
            "layer2 (Dense)               multiple                  10100     \n",
            "_________________________________________________________________\n",
            "layer3 (Dense)               multiple                  10100     \n",
            "_________________________________________________________________\n",
            "layer4 (Dense)               multiple                  10100     \n",
            "_________________________________________________________________\n",
            "layer5 (Dense)               multiple                  10100     \n",
            "_________________________________________________________________\n",
            "layer6 (Dense)               multiple                  10100     \n",
            "_________________________________________________________________\n",
            "layer7 (Dense)               multiple                  10100     \n",
            "_________________________________________________________________\n",
            "layer8 (Dense)               multiple                  10100     \n",
            "_________________________________________________________________\n",
            "layer9 (Dense)               multiple                  10100     \n",
            "_________________________________________________________________\n",
            "layer10 (Dense)              multiple                  202       \n",
            "_________________________________________________________________\n",
            "dense (Dense)                multiple                  1         \n",
            "=================================================================\n",
            "Total params: 81,203\n",
            "Trainable params: 81,203\n",
            "Non-trainable params: 0\n",
            "_________________________________________________________________\n"
          ],
          "name": "stdout"
        }
      ]
    },
    {
      "cell_type": "code",
      "metadata": {
        "id": "uro5n5hsQcz4"
      },
      "source": [
        "def loss(model, S_t_train, I_t_train, t_train, training):\n",
        "    y,_ = model(t_train, training = training)\n",
        "    S_pred = y[:,0]\n",
        "    I_pred = y[:,1]\n",
        "    with tf.GradientTape(persistent = True) as t1:\n",
        "        t1.watch(t_train)\n",
        "        y,beta = model(t_train)\n",
        "        S = y[:,0]\n",
        "        I = y[:,1]\n",
        "    dS_dt = t1.gradient(S, t_train)\n",
        "    dI_dt = t1.gradient(I, t_train)\n",
        "    f_pred = dS_dt + (beta*S*I) \n",
        "    g_pred = dI_dt - (beta*S*I) + 0.25*I  \n",
        "    return tf.reduce_mean(tf.square(S_t_train - S_pred)) + tf.reduce_mean(tf.square(I_t_train - I_pred)) + tf.reduce_mean(tf.square(f_pred)) + tf.reduce_mean(tf.square(g_pred))"
      ],
      "execution_count": null,
      "outputs": []
    },
    {
      "cell_type": "code",
      "metadata": {
        "colab": {
          "base_uri": "https://localhost:8080/"
        },
        "id": "sTT_V9KXQg6P",
        "outputId": "1e2bef8d-f200-41a9-e527-56d3d9748518"
      },
      "source": [
        "loss(model, S_t2, I_t2, t2, training=True)"
      ],
      "execution_count": null,
      "outputs": [
        {
          "output_type": "execute_result",
          "data": {
            "text/plain": [
              "<tf.Tensor: shape=(), dtype=float32, numpy=22.904253>"
            ]
          },
          "metadata": {},
          "execution_count": 43
        }
      ]
    },
    {
      "cell_type": "code",
      "metadata": {
        "colab": {
          "base_uri": "https://localhost:8080/"
        },
        "id": "JJh8eysaQpOC",
        "outputId": "fd8ba381-d486-4e83-fcbc-42e17b090bac"
      },
      "source": [
        "def train(model, S_t_train, I_t_train, t_train):\n",
        "    with tf.GradientTape() as t:\n",
        "        current_loss = loss(model, S_t_train, I_t_train, t_train, training=True)\n",
        "    grads = t.gradient(current_loss, model.trainable_variables)\n",
        "    return current_loss, grads\n",
        "\n",
        "optimizer=tf.keras.optimizers.Adam(learning_rate=0.001)\n",
        "epoch=[]\n",
        "loss_plot=[]\n",
        "model = Custom_model1()\n",
        "ne=4000\n",
        "for i in range(ne):\n",
        "    loss_avg = tf.keras.metrics.Mean()\n",
        "    c_l,grad=train(model, S_t2, I_t2, t2)\n",
        "    optimizer.apply_gradients((grad, var) for (grad, var) in zip(grad, model.trainable_variables) if grad is not None)\n",
        "    loss_avg.update_state(c_l)\n",
        "  \n",
        "    if i%100==0:\n",
        "      epoch.append(i)\n",
        "      loss_plot.append(loss_avg.result())\n",
        "      print(loss_avg.result())"
      ],
      "execution_count": null,
      "outputs": [
        {
          "output_type": "stream",
          "text": [
            "tf.Tensor(1.6156597, shape=(), dtype=float32)\n",
            "tf.Tensor(0.0033322272, shape=(), dtype=float32)\n",
            "tf.Tensor(0.00032562093, shape=(), dtype=float32)\n",
            "tf.Tensor(0.00017797656, shape=(), dtype=float32)\n",
            "tf.Tensor(0.000120379125, shape=(), dtype=float32)\n",
            "tf.Tensor(8.426329e-05, shape=(), dtype=float32)\n",
            "tf.Tensor(6.654252e-05, shape=(), dtype=float32)\n",
            "tf.Tensor(5.4944878e-05, shape=(), dtype=float32)\n",
            "tf.Tensor(4.651331e-05, shape=(), dtype=float32)\n",
            "tf.Tensor(4.0036743e-05, shape=(), dtype=float32)\n",
            "tf.Tensor(3.4918437e-05, shape=(), dtype=float32)\n",
            "tf.Tensor(3.016744e-05, shape=(), dtype=float32)\n",
            "tf.Tensor(2.9540111e-05, shape=(), dtype=float32)\n",
            "tf.Tensor(3.0922085e-05, shape=(), dtype=float32)\n",
            "tf.Tensor(3.0984873e-05, shape=(), dtype=float32)\n",
            "tf.Tensor(3.023394e-05, shape=(), dtype=float32)\n",
            "tf.Tensor(2.9660652e-05, shape=(), dtype=float32)\n",
            "tf.Tensor(3.0126059e-05, shape=(), dtype=float32)\n",
            "tf.Tensor(3.2268064e-05, shape=(), dtype=float32)\n",
            "tf.Tensor(3.5290956e-05, shape=(), dtype=float32)\n",
            "tf.Tensor(3.7852773e-05, shape=(), dtype=float32)\n",
            "tf.Tensor(3.9201892e-05, shape=(), dtype=float32)\n",
            "tf.Tensor(3.9638722e-05, shape=(), dtype=float32)\n",
            "tf.Tensor(3.7953258e-05, shape=(), dtype=float32)\n",
            "tf.Tensor(2.8930077e-05, shape=(), dtype=float32)\n",
            "tf.Tensor(2.1662303e-05, shape=(), dtype=float32)\n",
            "tf.Tensor(1.8156057e-05, shape=(), dtype=float32)\n",
            "tf.Tensor(1.5256586e-05, shape=(), dtype=float32)\n",
            "tf.Tensor(1.11389545e-05, shape=(), dtype=float32)\n",
            "tf.Tensor(9.206953e-06, shape=(), dtype=float32)\n",
            "tf.Tensor(9.110815e-06, shape=(), dtype=float32)\n",
            "tf.Tensor(9.081866e-06, shape=(), dtype=float32)\n",
            "tf.Tensor(9.237325e-06, shape=(), dtype=float32)\n",
            "tf.Tensor(9.6296735e-06, shape=(), dtype=float32)\n",
            "tf.Tensor(9.865597e-06, shape=(), dtype=float32)\n",
            "tf.Tensor(1.0417202e-05, shape=(), dtype=float32)\n",
            "tf.Tensor(1.0521001e-05, shape=(), dtype=float32)\n",
            "tf.Tensor(4.0631614e-05, shape=(), dtype=float32)\n",
            "tf.Tensor(1.9785108e-05, shape=(), dtype=float32)\n",
            "tf.Tensor(1.7120492e-05, shape=(), dtype=float32)\n"
          ],
          "name": "stdout"
        }
      ]
    },
    {
      "cell_type": "code",
      "metadata": {
        "colab": {
          "base_uri": "https://localhost:8080/",
          "height": 279
        },
        "id": "6hSz9gKLQ5zX",
        "outputId": "04a659c0-0707-4b58-d4e0-bd3137d15de3"
      },
      "source": [
        "x_plot=epoch\n",
        "y_plot=loss_plot\n",
        "plt.plot(x_plot,y_plot)\n",
        "plt.xlabel('Epochs')\n",
        "plt.ylabel('Loss')\n",
        "plt.show()"
      ],
      "execution_count": null,
      "outputs": [
        {
          "output_type": "display_data",
          "data": {
            "image/png": "[encoded data removed]",
            "text/plain": [
              "<Figure size 432x288 with 1 Axes>"
            ]
          },
          "metadata": {
            "needs_background": "light"
          }
        }
      ]
    },
    {
      "cell_type": "code",
      "metadata": {
        "id": "vS5iYoMMpdIG"
      },
      "source": [
        "y,beta = model(t2)"
      ],
      "execution_count": null,
      "outputs": []
    },
    {
      "cell_type": "code",
      "metadata": {
        "id": "LESp_Lm-phpX"
      },
      "source": [
        "S_pred=y[:,0]\n",
        "I_pred=y[:,1]"
      ],
      "execution_count": null,
      "outputs": []
    },
    {
      "cell_type": "code",
      "metadata": {
        "colab": {
          "base_uri": "https://localhost:8080/"
        },
        "id": "y-Y-1pIMr73v",
        "outputId": "cd295a5a-030e-45f4-d940-27e524c1abab"
      },
      "source": [
        "print(S_pred)"
      ],
      "execution_count": null,
      "outputs": [
        {
          "output_type": "stream",
          "text": [
            "tf.Tensor([1.0004939 1.0004954 1.0004976 ... 1.0011562 1.0011599 1.0011652], shape=(5000,), dtype=float32)\n"
          ],
          "name": "stdout"
        }
      ]
    },
    {
      "cell_type": "code",
      "metadata": {
        "colab": {
          "base_uri": "https://localhost:8080/",
          "height": 265
        },
        "id": "5BS-RmTHpmEa",
        "outputId": "82f55887-260f-45ca-8ed0-e7fd62a161c1"
      },
      "source": [
        "plt.plot(t2,S_t2, label = \"S(t) Original\")\n",
        "plt.plot(t2,S_pred, label = \"S-Prediction\")\n",
        "plt.grid()\n",
        "plt.legend()\n",
        "plt.show()"
      ],
      "execution_count": null,
      "outputs": [
        {
          "output_type": "display_data",
          "data": {
            "image/png": "[encoded data removed]",
            "text/plain": [
              "<Figure size 432x288 with 1 Axes>"
            ]
          },
          "metadata": {
            "needs_background": "light"
          }
        }
      ]
    },
    {
      "cell_type": "code",
      "metadata": {
        "colab": {
          "base_uri": "https://localhost:8080/",
          "height": 265
        },
        "id": "WUHMlkkBqieo",
        "outputId": "dba9e143-b587-4e46-d85d-857bcc3a93e1"
      },
      "source": [
        "plt.plot(t2,I_t2, label = \"I(t) Original\")\n",
        "plt.plot(t2,I_pred, label = \"I-Prediction\")\n",
        "plt.grid()\n",
        "plt.legend()\n",
        "plt.show()"
      ],
      "execution_count": null,
      "outputs": [
        {
          "output_type": "display_data",
          "data": {
            "image/png": "[encoded data removed]",
            "text/plain": [
              "<Figure size 432x288 with 1 Axes>"
            ]
          },
          "metadata": {
            "needs_background": "light"
          }
        }
      ]
    },
    {
      "cell_type": "code",
      "metadata": {
        "id": "JIqRwLjIpqJK"
      },
      "source": [
        "b = 0.7/(1+np.exp(-np.linspace(0,41,40000)))\n",
        "b2=b[5000:10000]"
      ],
      "execution_count": null,
      "outputs": []
    },
    {
      "cell_type": "code",
      "metadata": {
        "colab": {
          "base_uri": "https://localhost:8080/",
          "height": 265
        },
        "id": "eRCBeoQqqCh_",
        "outputId": "dc0199cc-7f33-45bd-b00d-b1c29b5a130d"
      },
      "source": [
        "plt.plot(t2,b2, label = \"beta original\")\n",
        "plt.plot(t2,beta, label = \"beta predicted\")\n",
        "plt.grid()\n",
        "plt.legend()\n",
        "plt.show()"
      ],
      "execution_count": null,
      "outputs": [
        {
          "output_type": "display_data",
          "data": {
            "image/png": "[encoded data removed]",
            "text/plain": [
              "<Figure size 432x288 with 1 Axes>"
            ]
          },
          "metadata": {
            "needs_background": "light"
          }
        }
      ]
    },
    {
      "cell_type": "code",
      "metadata": {
        "id": "5CJ8KU6lqJEr"
      },
      "source": [
        ""
      ],
      "execution_count": null,
      "outputs": []
    }
  ]
}